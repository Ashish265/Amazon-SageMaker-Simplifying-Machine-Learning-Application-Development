{
 "cells": [
  {
   "cell_type": "markdown",
   "metadata": {},
   "source": [
    "# End-to-End Example #1\n",
    "\n",
    "1. [Introduction](#Introduction)\n",
    "2. [Prerequisites and Preprocessing](#Prequisites-and-Preprocessing)\n",
    "  1. [Permissions and environment variables](#Permissions-and-environment-variables)\n",
    "  2. [Data ingestion](#Data-ingestion)\n",
    "  3. [Data inspection](#Data-inspection)\n",
    "  4. [Data conversion](#Data-conversion)\n",
    "3. [Training the K-Means model](#Training-the-K-Means-model)\n",
    "4. [Set up hosting for the model](#Set-up-hosting-for-the-model)\n",
    "5. [Validate the model for use](#Validate-the-model-for-use)\n"
   ]
  },
  {
   "cell_type": "markdown",
   "metadata": {},
   "source": [
    "## Introduction\n",
    "\n",
    "Welcome to our first end-to-end example! Today, we're working through a classification problem, specifically of images of handwritten digits, from zero to nine. Let's imagine that this dataset doesn't have labels, so we don't know for sure what the true answer is. In later examples, we'll show the value of \"ground truth\", as it's commonly known.\n",
    "\n",
    "Today, however, we need to get these digits classified without ground truth. A common method for doing this is a set of methods known as \"clustering\", and in particular, the method that we'll look at today is called k-means clustering. In this method, each point belongs to the cluster with the closest mean, and the data is partitioned into a number of clusters that is specified when framing the problem. In this case, since we know there are 10 clusters, and we have no labeled data (in the way we framed the problem), this is a good fit.\n",
    "\n",
    "To get started, we need to set up the environment with a few prerequisite steps, for permissions, configurations, and so on."
   ]
  },
  {
   "cell_type": "markdown",
   "metadata": {},
   "source": [
    "## Prequisites and Preprocessing\n",
    "\n",
    "### Permissions and environment variables\n",
    "\n",
    "Here we set up the linkage and authentication to AWS services. There are two parts to this:\n",
    "\n",
    "1. The role(s) used to give learning and hosting access to your data. Here we extract the role you created earlier for accessing your notebook. See the documentation if you want to specify a different role.\n",
    "1. The S3 bucket name that you want to use for training and model data. Here we use a default in the form of `sagemaker-{region}-{AWS account ID}`, but you may specify a different one if you wish."
   ]
  },
  {
   "cell_type": "code",
   "execution_count": 1,
   "metadata": {},
   "outputs": [],
   "source": [
    "%matplotlib inline"
   ]
  },
  {
   "cell_type": "code",
   "execution_count": 2,
   "metadata": {
    "isConfigCell": true
   },
   "outputs": [],
   "source": [
    "from sagemaker import get_execution_role\n",
    "from sagemaker.session import Session\n",
    "\n",
    "role = get_execution_role()\n",
    "bucket = Session().default_bucket()"
   ]
  },
  {
   "cell_type": "markdown",
   "metadata": {},
   "source": [
    "### Data ingestion\n",
    "\n",
    "Next, we read the dataset from the existing repository into memory, for preprocessing prior to training.  In this case we'll use the MNIST dataset, which contains 70K 28 x 28 pixel images of handwritten digits.  For more details, please see [here](http://yann.lecun.com/exdb/mnist/).\n",
    "\n",
    "This processing could be done *in situ* by Amazon Athena, Apache Spark in Amazon EMR, Amazon Redshift, etc., assuming the dataset is present in the appropriate location. Then, the next step would be to transfer the data to S3 for use in training. For small datasets, such as this one, reading into memory isn't onerous, though it would be for larger datasets."
   ]
  },
  {
   "cell_type": "code",
   "execution_count": 3,
   "metadata": {},
   "outputs": [
    {
     "name": "stdout",
     "output_type": "stream",
     "text": [
      "CPU times: user 1.05 s, sys: 236 ms, total: 1.28 s\n",
      "Wall time: 1.43 s\n"
     ]
    }
   ],
   "source": [
    "%%time\n",
    "import pickle, gzip, numpy, boto3, json\n",
    "\n",
    "# Load the dataset\n",
    "region = boto3.Session().region_name\n",
    "boto3.Session().resource('s3', region_name=region).Bucket('sagemaker-sample-data-{}'.format(region)).download_file('algorithms/kmeans/mnist/mnist.pkl.gz', 'mnist.pkl.gz')\n",
    "with gzip.open('mnist.pkl.gz', 'rb') as f:\n",
    "    train_set, valid_set, test_set = pickle.load(f, encoding='latin1')"
   ]
  },
  {
   "cell_type": "markdown",
   "metadata": {},
   "source": [
    "### Data inspection\n",
    "\n",
    "Once the dataset is imported, it's typical as part of the machine learning process to inspect the data, understand the distributions, and determine what type(s) of preprocessing might be needed. You can perform those tasks right here in the notebook. As an example, let's go ahead and look at one of the digits that is part of the dataset."
   ]
  },
  {
   "cell_type": "code",
   "execution_count": 4,
   "metadata": {},
   "outputs": [
    {
     "data": {
      "image/png": "[encoded data removed]",
      "text/plain": [
       "<Figure size 144x720 with 1 Axes>"
      ]
     },
     "metadata": {},
     "output_type": "display_data"
    }
   ],
   "source": [
    "import matplotlib.pyplot as plt\n",
    "plt.rcParams[\"figure.figsize\"] = (2,10)\n",
    "\n",
    "\n",
    "def show_digit(img, caption='', subplot=None):\n",
    "    if subplot==None:\n",
    "        _,(subplot)=plt.subplots(1,1)\n",
    "    imgr=img.reshape((28,28))\n",
    "    subplot.axis('off')\n",
    "    subplot.imshow(imgr, cmap='gray')\n",
    "    plt.title(caption)\n",
    "\n",
    "show_digit(train_set[0][30], 'This is a {}'.format(train_set[1][30]))"
   ]
  },
  {
   "cell_type": "markdown",
   "metadata": {},
   "source": [
    "## Training the K-Means model\n",
    "\n",
    "Once we have the data preprocessed and available in the correct format for training, the next step is to actually train the model using the data. Since this data is relatively small, it isn't meant to show off the performance of the k-means training algorithm.  But Amazon SageMaker's k-means has been tested on, and scales well with, multi-terabyte datasets.\n",
    "\n",
    "After setting training parameters, we kick off training, and poll for status until training is completed, which in this example, takes around 4 minutes."
   ]
  },
  {
   "cell_type": "code",
   "execution_count": 5,
   "metadata": {},
   "outputs": [
    {
     "name": "stdout",
     "output_type": "stream",
     "text": [
      "training data will be uploaded to: s3://sagemaker-us-west-2-382932604317/kmeans_highlevel_example/data\n",
      "training artifacts will be uploaded to: s3://sagemaker-us-west-2-382932604317/kmeans_example/output\n"
     ]
    }
   ],
   "source": [
    "from sagemaker import KMeans\n",
    "\n",
    "data_location = 's3://{}/kmeans_highlevel_example/data'.format(bucket)\n",
    "output_location = 's3://{}/kmeans_example/output'.format(bucket)\n",
    "\n",
    "print('training data will be uploaded to: {}'.format(data_location))\n",
    "print('training artifacts will be uploaded to: {}'.format(output_location))\n",
    "\n",
    "kmeans = KMeans(role=role,\n",
    "                train_instance_count=2,\n",
    "                train_instance_type='ml.c4.xlarge',\n",
    "                output_path=output_location,\n",
    "                k=10,\n",
    "                data_location=data_location)"
   ]
  },
  {
   "cell_type": "code",
   "execution_count": 6,
   "metadata": {},
   "outputs": [
    {
     "name": "stdout",
     "output_type": "stream",
     "text": [
      "2020-05-28 19:07:35 Starting - Starting the training job...\n",
      "2020-05-28 19:07:37 Starting - Launching requested ML instances......\n",
      "2020-05-28 19:08:45 Starting - Preparing the instances for training.........\n",
      "2020-05-28 19:10:22 Downloading - Downloading input data\n",
      "2020-05-28 19:10:22 Training - Downloading the training image.\u001b[34mDocker entrypoint called with argument(s): train\u001b[0m\n",
      "\u001b[34mRunning default environment configuration script\u001b[0m\n",
      "\u001b[34m[05/28/2020 19:10:39 INFO 140120511825728] Reading default configuration from /opt/amazon/lib/python2.7/site-packages/algorithm/resources/default-input.json: {u'_enable_profiler': u'false', u'_tuning_objective_metric': u'', u'_num_gpus': u'auto', u'local_lloyd_num_trials': u'auto', u'_log_level': u'info', u'_kvstore': u'auto', u'local_lloyd_init_method': u'kmeans++', u'force_dense': u'true', u'epochs': u'1', u'init_method': u'random', u'local_lloyd_tol': u'0.0001', u'local_lloyd_max_iter': u'300', u'_disable_wait_to_read': u'false', u'extra_center_factor': u'auto', u'eval_metrics': u'[\"msd\"]', u'_num_kv_servers': u'1', u'mini_batch_size': u'5000', u'half_life_time_size': u'0', u'_num_slices': u'1'}\u001b[0m\n",
      "\u001b[34m[05/28/2020 19:10:39 INFO 140120511825728] Reading provided configuration from /opt/ml/input/config/hyperparameters.json: {u'feature_dim': u'784', u'k': u'10', u'force_dense': u'True'}\u001b[0m\n",
      "\u001b[34m[05/28/2020 19:10:39 INFO 140120511825728] Final configuration: {u'_tuning_objective_metric': u'', u'extra_center_factor': u'auto', u'local_lloyd_init_method': u'kmeans++', u'force_dense': u'True', u'epochs': u'1', u'feature_dim': u'784', u'local_lloyd_tol': u'0.0001', u'_disable_wait_to_read': u'false', u'eval_metrics': u'[\"msd\"]', u'_num_kv_servers': u'1', u'mini_batch_size': u'5000', u'_enable_profiler': u'false', u'_num_gpus': u'auto', u'local_lloyd_num_trials': u'auto', u'_log_level': u'info', u'init_method': u'random', u'half_life_time_size': u'0', u'local_lloyd_max_iter': u'300', u'_kvstore': u'auto', u'k': u'10', u'_num_slices': u'1'}\u001b[0m\n",
      "\u001b[34m[05/28/2020 19:10:39 WARNING 140120511825728] Loggers have already been setup.\u001b[0m\n",
      "\u001b[35m[05/28/2020 19:10:42 INFO 140120511825728] Environment: {'ECS_CONTAINER_METADATA_URI': 'http://169.254.170.2/v3/f8b64746-1303-4488-8261-85acc2f3e37f', 'PROTOCOL_BUFFERS_PYTHON_IMPLEMENTATION_VERSION': '2', 'DMLC_PS_ROOT_PORT': '9000', 'DMLC_NUM_WORKER': '2', 'SAGEMAKER_HTTP_PORT': '8080', 'PATH': '/opt/amazon/bin:/usr/local/nvidia/bin:/usr/local/sbin:/usr/local/bin:/usr/sbin:/usr/bin:/sbin:/bin:/opt/amazon/bin:/opt/amazon/bin', 'PYTHONUNBUFFERED': 'TRUE', 'CANONICAL_ENVROOT': '/opt/amazon', 'LD_LIBRARY_PATH': '/opt/amazon/lib/python2.7/site-packages/cv2/../../../../lib:/usr/local/nvidia/lib64:/opt/amazon/lib', 'MXNET_KVSTORE_BIGARRAY_BOUND': '400000000', 'LANG': 'en_US.utf8', 'DMLC_INTERFACE': 'eth0', 'SHLVL': '1', 'DMLC_PS_ROOT_URI': '10.0.130.96', 'AWS_REGION': 'us-west-2', 'SAGEMAKER_METRICS_DIRECTORY': '/opt/ml/output/metrics/sagemaker', 'NVIDIA_VISIBLE_DEVICES': 'void', 'TRAINING_JOB_NAME': 'kmeans-2020-05-28-19-07-35-058', 'HOME': '/root', 'PROTOCOL_BUFFERS_PYTHON_IMPLEMENTATION': 'cpp', 'ENVROOT': '/opt/amazon', 'SAGEMAKER_DATA_PATH': '/opt/ml', 'NVIDIA_DRIVER_CAPABILITIES': 'compute,utility', 'NVIDIA_REQUIRE_CUDA': 'cuda>=9.0', 'OMP_NUM_THREADS': '2', 'HOSTNAME': 'ip-10-0-186-233.us-west-2.compute.internal', 'AWS_CONTAINER_CREDENTIALS_RELATIVE_URI': '/v2/credentials/56601f60-d1c5-43ae-b138-193504c60536', 'DMLC_ROLE': 'worker', 'PWD': '/', 'DMLC_NUM_SERVER': '1', 'TRAINING_JOB_ARN': 'arn:aws:sagemaker:us-west-2:382932604317:training-job/kmeans-2020-05-28-19-07-35-058', 'AWS_EXECUTION_ENV': 'AWS_ECS_EC2'}\u001b[0m\n",
      "\u001b[35mProcess 1 is a worker.\u001b[0m\n",
      "\u001b[35m[05/28/2020 19:10:42 INFO 140120511825728] Using default worker.\u001b[0m\n",
      "\u001b[35m[05/28/2020 19:10:42 INFO 140120511825728] Loaded iterator creator application/x-recordio-protobuf for content type ('application/x-recordio-protobuf', '1.0')\u001b[0m\n",
      "\u001b[35m[05/28/2020 19:10:42 INFO 140120511825728] Create Store: dist_async\u001b[0m\n",
      "\u001b[34mDocker entrypoint called with argument(s): train\u001b[0m\n",
      "\u001b[34mRunning default environment configuration script\u001b[0m\n",
      "\u001b[34m[05/28/2020 19:10:44 INFO 140691468474176] Reading default configuration from /opt/amazon/lib/python2.7/site-packages/algorithm/resources/default-input.json: {u'_enable_profiler': u'false', u'_tuning_objective_metric': u'', u'_num_gpus': u'auto', u'local_lloyd_num_trials': u'auto', u'_log_level': u'info', u'_kvstore': u'auto', u'local_lloyd_init_method': u'kmeans++', u'force_dense': u'true', u'epochs': u'1', u'init_method': u'random', u'local_lloyd_tol': u'0.0001', u'local_lloyd_max_iter': u'300', u'_disable_wait_to_read': u'false', u'extra_center_factor': u'auto', u'eval_metrics': u'[\"msd\"]', u'_num_kv_servers': u'1', u'mini_batch_size': u'5000', u'half_life_time_size': u'0', u'_num_slices': u'1'}\u001b[0m\n",
      "\u001b[34m[05/28/2020 19:10:44 INFO 140691468474176] Reading provided configuration from /opt/ml/input/config/hyperparameters.json: {u'feature_dim': u'784', u'k': u'10', u'force_dense': u'True'}\u001b[0m\n",
      "\u001b[34m[05/28/2020 19:10:44 INFO 140691468474176] Final configuration: {u'_tuning_objective_metric': u'', u'extra_center_factor': u'auto', u'local_lloyd_init_method': u'kmeans++', u'force_dense': u'True', u'epochs': u'1', u'feature_dim': u'784', u'local_lloyd_tol': u'0.0001', u'_disable_wait_to_read': u'false', u'eval_metrics': u'[\"msd\"]', u'_num_kv_servers': u'1', u'mini_batch_size': u'5000', u'_enable_profiler': u'false', u'_num_gpus': u'auto', u'local_lloyd_num_trials': u'auto', u'_log_level': u'info', u'init_method': u'random', u'half_life_time_size': u'0', u'local_lloyd_max_iter': u'300', u'_kvstore': u'auto', u'k': u'10', u'_num_slices': u'1'}\u001b[0m\n",
      "\u001b[34m[05/28/2020 19:10:44 WARNING 140691468474176] Loggers have already been setup.\u001b[0m\n",
      "\u001b[34m[05/28/2020 19:10:44 INFO 140691468474176] Launching parameter server for role scheduler\u001b[0m\n",
      "\u001b[34m[05/28/2020 19:10:44 INFO 140691468474176] {'ECS_CONTAINER_METADATA_URI': 'http://169.254.170.2/v3/114cee96-aa1e-40e5-bb36-f85f2b5d6531', 'PROTOCOL_BUFFERS_PYTHON_IMPLEMENTATION_VERSION': '2', 'PATH': '/opt/amazon/bin:/usr/local/nvidia/bin:/usr/local/sbin:/usr/local/bin:/usr/sbin:/usr/bin:/sbin:/bin:/opt/amazon/bin:/opt/amazon/bin', 'SAGEMAKER_HTTP_PORT': '8080', 'HOME': '/root', 'PYTHONUNBUFFERED': 'TRUE', 'CANONICAL_ENVROOT': '/opt/amazon', 'LD_LIBRARY_PATH': '/opt/amazon/lib/python2.7/site-packages/cv2/../../../../lib:/usr/local/nvidia/lib64:/opt/amazon/lib', 'MXNET_KVSTORE_BIGARRAY_BOUND': '400000000', 'LANG': 'en_US.utf8', 'DMLC_INTERFACE': 'eth0', 'SHLVL': '1', 'AWS_REGION': 'us-west-2', 'NVIDIA_DRIVER_CAPABILITIES': 'compute,utility', 'NVIDIA_VISIBLE_DEVICES': 'void', 'TRAINING_JOB_NAME': 'kmeans-2020-05-28-19-07-35-058', 'PROTOCOL_BUFFERS_PYTHON_IMPLEMENTATION': 'cpp', 'ENVROOT': '/opt/amazon', 'SAGEMAKER_DATA_PATH': '/opt/ml', 'SAGEMAKER_METRICS_DIRECTORY': '/opt/ml/output/metrics/sagemaker', 'NVIDIA_REQUIRE_CUDA': 'cuda>=9.0', 'OMP_NUM_THREADS': '2', 'HOSTNAME': 'ip-10-0-130-96.us-west-2.compute.internal', 'AWS_CONTAINER_CREDENTIALS_RELATIVE_URI': '/v2/credentials/25ce4295-4b26-41cb-9dff-0022f3461b37', 'PWD': '/', 'TRAINING_JOB_ARN': 'arn:aws:sagemaker:us-west-2:382932604317:training-job/kmeans-2020-05-28-19-07-35-058', 'AWS_EXECUTION_ENV': 'AWS_ECS_EC2'}\u001b[0m\n",
      "\u001b[34m[05/28/2020 19:10:44 INFO 140691468474176] envs={'ECS_CONTAINER_METADATA_URI': 'http://169.254.170.2/v3/114cee96-aa1e-40e5-bb36-f85f2b5d6531', 'PROTOCOL_BUFFERS_PYTHON_IMPLEMENTATION_VERSION': '2', 'DMLC_NUM_WORKER': '2', 'DMLC_PS_ROOT_PORT': '9000', 'PATH': '/opt/amazon/bin:/usr/local/nvidia/bin:/usr/local/sbin:/usr/local/bin:/usr/sbin:/usr/bin:/sbin:/bin:/opt/amazon/bin:/opt/amazon/bin', 'SAGEMAKER_HTTP_PORT': '8080', 'HOME': '/root', 'PYTHONUNBUFFERED': 'TRUE', 'CANONICAL_ENVROOT': '/opt/amazon', 'LD_LIBRARY_PATH': '/opt/amazon/lib/python2.7/site-packages/cv2/../../../../lib:/usr/local/nvidia/lib64:/opt/amazon/lib', 'MXNET_KVSTORE_BIGARRAY_BOUND': '400000000', 'LANG': 'en_US.utf8', 'DMLC_INTERFACE': 'eth0', 'SHLVL': '1', 'DMLC_PS_ROOT_URI': '10.0.130.96', 'AWS_REGION': 'us-west-2', 'NVIDIA_DRIVER_CAPABILITIES': 'compute,utility', 'NVIDIA_VISIBLE_DEVICES': 'void', 'TRAINING_JOB_NAME': 'kmeans-2020-05-28-19-07-35-058', 'PROTOCOL_BUFFERS_PYTHON_IMPLEMENTATION': 'cpp', 'ENVROOT': '/opt/amazon', 'SAGEMAKER_DATA_PATH': '/opt/ml', 'SAGEMAKER_METRICS_DIRECTORY': '/opt/ml/output/metrics/sagemaker', 'NVIDIA_REQUIRE_CUDA': 'cuda>=9.0', 'OMP_NUM_THREADS': '2', 'HOSTNAME': 'ip-10-0-130-96.us-west-2.compute.internal', 'AWS_CONTAINER_CREDENTIALS_RELATIVE_URI': '/v2/credentials/25ce4295-4b26-41cb-9dff-0022f3461b37', 'DMLC_ROLE': 'scheduler', 'PWD': '/', 'DMLC_NUM_SERVER': '1', 'TRAINING_JOB_ARN': 'arn:aws:sagemaker:us-west-2:382932604317:training-job/kmeans-2020-05-28-19-07-35-058', 'AWS_EXECUTION_ENV': 'AWS_ECS_EC2'}\u001b[0m\n",
      "\u001b[34m[05/28/2020 19:10:44 INFO 140691468474176] Launching parameter server for role server\u001b[0m\n",
      "\u001b[34m[05/28/2020 19:10:44 INFO 140691468474176] {'ECS_CONTAINER_METADATA_URI': 'http://169.254.170.2/v3/114cee96-aa1e-40e5-bb36-f85f2b5d6531', 'PROTOCOL_BUFFERS_PYTHON_IMPLEMENTATION_VERSION': '2', 'PATH': '/opt/amazon/bin:/usr/local/nvidia/bin:/usr/local/sbin:/usr/local/bin:/usr/sbin:/usr/bin:/sbin:/bin:/opt/amazon/bin:/opt/amazon/bin', 'SAGEMAKER_HTTP_PORT': '8080', 'HOME': '/root', 'PYTHONUNBUFFERED': 'TRUE', 'CANONICAL_ENVROOT': '/opt/amazon', 'LD_LIBRARY_PATH': '/opt/amazon/lib/python2.7/site-packages/cv2/../../../../lib:/usr/local/nvidia/lib64:/opt/amazon/lib', 'MXNET_KVSTORE_BIGARRAY_BOUND': '400000000', 'LANG': 'en_US.utf8', 'DMLC_INTERFACE': 'eth0', 'SHLVL': '1', 'AWS_REGION': 'us-west-2', 'NVIDIA_DRIVER_CAPABILITIES': 'compute,utility', 'NVIDIA_VISIBLE_DEVICES': 'void', 'TRAINING_JOB_NAME': 'kmeans-2020-05-28-19-07-35-058', 'PROTOCOL_BUFFERS_PYTHON_IMPLEMENTATION': 'cpp', 'ENVROOT': '/opt/amazon', 'SAGEMAKER_DATA_PATH': '/opt/ml', 'SAGEMAKER_METRICS_DIRECTORY': '/opt/ml/output/metrics/sagemaker', 'NVIDIA_REQUIRE_CUDA': 'cuda>=9.0', 'OMP_NUM_THREADS': '2', 'HOSTNAME': 'ip-10-0-130-96.us-west-2.compute.internal', 'AWS_CONTAINER_CREDENTIALS_RELATIVE_URI': '/v2/credentials/25ce4295-4b26-41cb-9dff-0022f3461b37', 'PWD': '/', 'TRAINING_JOB_ARN': 'arn:aws:sagemaker:us-west-2:382932604317:training-job/kmeans-2020-05-28-19-07-35-058', 'AWS_EXECUTION_ENV': 'AWS_ECS_EC2'}\u001b[0m\n",
      "\u001b[34m[05/28/2020 19:10:44 INFO 140691468474176] envs={'ECS_CONTAINER_METADATA_URI': 'http://169.254.170.2/v3/114cee96-aa1e-40e5-bb36-f85f2b5d6531', 'PROTOCOL_BUFFERS_PYTHON_IMPLEMENTATION_VERSION': '2', 'DMLC_NUM_WORKER': '2', 'DMLC_PS_ROOT_PORT': '9000', 'PATH': '/opt/amazon/bin:/usr/local/nvidia/bin:/usr/local/sbin:/usr/local/bin:/usr/sbin:/usr/bin:/sbin:/bin:/opt/amazon/bin:/opt/amazon/bin', 'SAGEMAKER_HTTP_PORT': '8080', 'HOME': '/root', 'PYTHONUNBUFFERED': 'TRUE', 'CANONICAL_ENVROOT': '/opt/amazon', 'LD_LIBRARY_PATH': '/opt/amazon/lib/python2.7/site-packages/cv2/../../../../lib:/usr/local/nvidia/lib64:/opt/amazon/lib', 'MXNET_KVSTORE_BIGARRAY_BOUND': '400000000', 'LANG': 'en_US.utf8', 'DMLC_INTERFACE': 'eth0', 'SHLVL': '1', 'DMLC_PS_ROOT_URI': '10.0.130.96', 'AWS_REGION': 'us-west-2', 'NVIDIA_DRIVER_CAPABILITIES': 'compute,utility', 'NVIDIA_VISIBLE_DEVICES': 'void', 'TRAINING_JOB_NAME': 'kmeans-2020-05-28-19-07-35-058', 'PROTOCOL_BUFFERS_PYTHON_IMPLEMENTATION': 'cpp', 'ENVROOT': '/opt/amazon', 'SAGEMAKER_DATA_PATH': '/opt/ml', 'SAGEMAKER_METRICS_DIRECTORY': '/opt/ml/output/metrics/sagemaker', 'NVIDIA_REQUIRE_CUDA': 'cuda>=9.0', 'OMP_NUM_THREADS': '2', 'HOSTNAME': 'ip-10-0-130-96.us-west-2.compute.internal', 'AWS_CONTAINER_CREDENTIALS_RELATIVE_URI': '/v2/credentials/25ce4295-4b26-41cb-9dff-0022f3461b37', 'DMLC_ROLE': 'server', 'PWD': '/', 'DMLC_NUM_SERVER': '1', 'TRAINING_JOB_ARN': 'arn:aws:sagemaker:us-west-2:382932604317:training-job/kmeans-2020-05-28-19-07-35-058', 'AWS_EXECUTION_ENV': 'AWS_ECS_EC2'}\u001b[0m\n",
      "\u001b[34m[05/28/2020 19:10:44 INFO 140691468474176] Environment: {'ECS_CONTAINER_METADATA_URI': 'http://169.254.170.2/v3/114cee96-aa1e-40e5-bb36-f85f2b5d6531', 'PROTOCOL_BUFFERS_PYTHON_IMPLEMENTATION_VERSION': '2', 'DMLC_PS_ROOT_PORT': '9000', 'DMLC_NUM_WORKER': '2', 'SAGEMAKER_HTTP_PORT': '8080', 'PATH': '/opt/amazon/bin:/usr/local/nvidia/bin:/usr/local/sbin:/usr/local/bin:/usr/sbin:/usr/bin:/sbin:/bin:/opt/amazon/bin:/opt/amazon/bin', 'PYTHONUNBUFFERED': 'TRUE', 'CANONICAL_ENVROOT': '/opt/amazon', 'LD_LIBRARY_PATH': '/opt/amazon/lib/python2.7/site-packages/cv2/../../../../lib:/usr/local/nvidia/lib64:/opt/amazon/lib', 'MXNET_KVSTORE_BIGARRAY_BOUND': '400000000', 'LANG': 'en_US.utf8', 'DMLC_INTERFACE': 'eth0', 'SHLVL': '1', 'DMLC_PS_ROOT_URI': '10.0.130.96', 'AWS_REGION': 'us-west-2', 'SAGEMAKER_METRICS_DIRECTORY': '/opt/ml/output/metrics/sagemaker', 'NVIDIA_VISIBLE_DEVICES': 'void', 'TRAINING_JOB_NAME': 'kmeans-2020-05-28-19-07-35-058', 'HOME': '/root', 'PROTOCOL_BUFFERS_PYTHON_IMPLEMENTATION': 'cpp', 'ENVROOT': '/opt/amazon', 'SAGEMAKER_DATA_PATH': '/opt/ml', 'NVIDIA_DRIVER_CAPABILITIES': 'compute,utility', 'NVIDIA_REQUIRE_CUDA': 'cuda>=9.0', 'OMP_NUM_THREADS': '2', 'HOSTNAME': 'ip-10-0-130-96.us-west-2.compute.internal', 'AWS_CONTAINER_CREDENTIALS_RELATIVE_URI': '/v2/credentials/25ce4295-4b26-41cb-9dff-0022f3461b37', 'DMLC_ROLE': 'worker', 'PWD': '/', 'DMLC_NUM_SERVER': '1', 'TRAINING_JOB_ARN': 'arn:aws:sagemaker:us-west-2:382932604317:training-job/kmeans-2020-05-28-19-07-35-058', 'AWS_EXECUTION_ENV': 'AWS_ECS_EC2'}\u001b[0m\n",
      "\u001b[34mProcess 61 is a shell:scheduler.\u001b[0m\n",
      "\u001b[34mProcess 70 is a shell:server.\u001b[0m\n",
      "\u001b[34mProcess 1 is a worker.\u001b[0m\n",
      "\u001b[34m[05/28/2020 19:10:44 INFO 140691468474176] Using default worker.\u001b[0m\n",
      "\u001b[34m[05/28/2020 19:10:44 INFO 140691468474176] Loaded iterator creator application/x-recordio-protobuf for content type ('application/x-recordio-protobuf', '1.0')\u001b[0m\n",
      "\u001b[34m[05/28/2020 19:10:44 INFO 140691468474176] Create Store: dist_async\u001b[0m\n",
      "\u001b[34m[05/28/2020 19:10:45 INFO 140691468474176] nvidia-smi took: 0.0251770019531 secs to identify 0 gpus\u001b[0m\n",
      "\u001b[34m[05/28/2020 19:10:45 INFO 140691468474176] Number of GPUs being used: 0\u001b[0m\n",
      "\u001b[34m[05/28/2020 19:10:45 INFO 140691468474176] Setting up with params: {u'_tuning_objective_metric': u'', u'extra_center_factor': u'auto', u'local_lloyd_init_method': u'kmeans++', u'force_dense': u'True', u'epochs': u'1', u'feature_dim': u'784', u'local_lloyd_tol': u'0.0001', u'_disable_wait_to_read': u'false', u'eval_metrics': u'[\"msd\"]', u'_num_kv_servers': u'1', u'mini_batch_size': u'5000', u'_enable_profiler': u'false', u'_num_gpus': u'auto', u'local_lloyd_num_trials': u'auto', u'_log_level': u'info', u'init_method': u'random', u'half_life_time_size': u'0', u'local_lloyd_max_iter': u'300', u'_kvstore': u'auto', u'k': u'10', u'_num_slices': u'1'}\u001b[0m\n",
      "\u001b[34m[05/28/2020 19:10:45 INFO 140691468474176] 'extra_center_factor' was set to 'auto', evaluated to 10.\u001b[0m\n",
      "\u001b[34m[05/28/2020 19:10:45 INFO 140691468474176] Number of GPUs being used: 0\u001b[0m\n",
      "\u001b[34m[05/28/2020 19:10:45 INFO 140691468474176] number of center slices 1\u001b[0m\n",
      "\u001b[34m#metrics {\"Metrics\": {\"Max Batches Seen Between Resets\": {\"count\": 1, \"max\": 1, \"sum\": 1.0, \"min\": 1}, \"Number of Batches Since Last Reset\": {\"count\": 1, \"max\": 1, \"sum\": 1.0, \"min\": 1}, \"Number of Records Since Last Reset\": {\"count\": 1, \"max\": 5000, \"sum\": 5000.0, \"min\": 5000}, \"Total Batches Seen\": {\"count\": 1, \"max\": 1, \"sum\": 1.0, \"min\": 1}, \"Total Records Seen\": {\"count\": 1, \"max\": 5000, \"sum\": 5000.0, \"min\": 5000}, \"Max Records Seen Between Resets\": {\"count\": 1, \"max\": 5000, \"sum\": 5000.0, \"min\": 5000}, \"Reset Count\": {\"count\": 1, \"max\": 0, \"sum\": 0.0, \"min\": 0}}, \"EndTime\": 1590693045.511408, \"Dimensions\": {\"Host\": \"algo-1\", \"Meta\": \"init_train_data_iter\", \"Operation\": \"training\", \"Algorithm\": \"AWS/KMeansWebscale\"}, \"StartTime\": 1590693045.511347}\n",
      "\u001b[0m\n",
      "\u001b[34m[2020-05-28 19:10:45.532] [tensorio] [info] epoch_stats={\"data_pipeline\": \"/opt/ml/input/data/train\", \"epoch\": 0, \"duration\": 102, \"num_examples\": 1, \"num_bytes\": 15820000}\u001b[0m\n",
      "\u001b[35m[05/28/2020 19:10:45 INFO 140120511825728] nvidia-smi took: 0.025190114975 secs to identify 0 gpus\u001b[0m\n",
      "\u001b[35m[05/28/2020 19:10:45 INFO 140120511825728] Number of GPUs being used: 0\u001b[0m\n",
      "\u001b[35m[05/28/2020 19:10:45 INFO 140120511825728] Setting up with params: {u'_tuning_objective_metric': u'', u'extra_center_factor': u'auto', u'local_lloyd_init_method': u'kmeans++', u'force_dense': u'True', u'epochs': u'1', u'feature_dim': u'784', u'local_lloyd_tol': u'0.0001', u'_disable_wait_to_read': u'false', u'eval_metrics': u'[\"msd\"]', u'_num_kv_servers': u'1', u'mini_batch_size': u'5000', u'_enable_profiler': u'false', u'_num_gpus': u'auto', u'local_lloyd_num_trials': u'auto', u'_log_level': u'info', u'init_method': u'random', u'half_life_time_size': u'0', u'local_lloyd_max_iter': u'300', u'_kvstore': u'auto', u'k': u'10', u'_num_slices': u'1'}\u001b[0m\n",
      "\u001b[35m[05/28/2020 19:10:45 INFO 140120511825728] 'extra_center_factor' was set to 'auto', evaluated to 10.\u001b[0m\n",
      "\u001b[35m[05/28/2020 19:10:45 INFO 140120511825728] Number of GPUs being used: 0\u001b[0m\n",
      "\u001b[35m[05/28/2020 19:10:45 INFO 140120511825728] number of center slices 1\u001b[0m\n",
      "\u001b[35m#metrics {\"Metrics\": {\"Max Batches Seen Between Resets\": {\"count\": 1, \"max\": 1, \"sum\": 1.0, \"min\": 1}, \"Number of Batches Since Last Reset\": {\"count\": 1, \"max\": 1, \"sum\": 1.0, \"min\": 1}, \"Number of Records Since Last Reset\": {\"count\": 1, \"max\": 5000, \"sum\": 5000.0, \"min\": 5000}, \"Total Batches Seen\": {\"count\": 1, \"max\": 1, \"sum\": 1.0, \"min\": 1}, \"Total Records Seen\": {\"count\": 1, \"max\": 5000, \"sum\": 5000.0, \"min\": 5000}, \"Max Records Seen Between Resets\": {\"count\": 1, \"max\": 5000, \"sum\": 5000.0, \"min\": 5000}, \"Reset Count\": {\"count\": 1, \"max\": 0, \"sum\": 0.0, \"min\": 0}}, \"EndTime\": 1590693045.512175, \"Dimensions\": {\"Host\": \"algo-2\", \"Meta\": \"init_train_data_iter\", \"Operation\": \"training\", \"Algorithm\": \"AWS/KMeansWebscale\"}, \"StartTime\": 1590693045.512141}\n",
      "\u001b[0m\n",
      "\u001b[35m[2020-05-28 19:10:45.532] [tensorio] [info] epoch_stats={\"data_pipeline\": \"/opt/ml/input/data/train\", \"epoch\": 0, \"duration\": 101, \"num_examples\": 1, \"num_bytes\": 15820000}\u001b[0m\n",
      "\u001b[35m[2020-05-28 19:10:45.902] [tensorio] [info] epoch_stats={\"data_pipeline\": \"/opt/ml/input/data/train\", \"epoch\": 1, \"duration\": 368, \"num_examples\": 5, \"num_bytes\": 79100000}\u001b[0m\n",
      "\u001b[35m[05/28/2020 19:10:45 INFO 140120511825728] processed a total of 25000 examples\u001b[0m\n",
      "\u001b[35m[05/28/2020 19:10:45 INFO 140120511825728] #progress_metric: host=algo-2, completed 100 % of epochs\u001b[0m\n",
      "\u001b[35m#metrics {\"Metrics\": {\"Max Batches Seen Between Resets\": {\"count\": 1, \"max\": 5, \"sum\": 5.0, \"min\": 5}, \"Number of Batches Since Last Reset\": {\"count\": 1, \"max\": 5, \"sum\": 5.0, \"min\": 5}, \"Number of Records Since Last Reset\": {\"count\": 1, \"max\": 25000, \"sum\": 25000.0, \"min\": 25000}, \"Total Batches Seen\": {\"count\": 1, \"max\": 6, \"sum\": 6.0, \"min\": 6}, \"Total Records Seen\": {\"count\": 1, \"max\": 30000, \"sum\": 30000.0, \"min\": 30000}, \"Max Records Seen Between Resets\": {\"count\": 1, \"max\": 25000, \"sum\": 25000.0, \"min\": 25000}, \"Reset Count\": {\"count\": 1, \"max\": 1, \"sum\": 1.0, \"min\": 1}}, \"EndTime\": 1590693045.902821, \"Dimensions\": {\"Host\": \"algo-2\", \"Meta\": \"training_data_iter\", \"Operation\": \"training\", \"Algorithm\": \"AWS/KMeansWebscale\", \"epoch\": 0}, \"StartTime\": 1590693045.533076}\n",
      "\u001b[0m\n",
      "\u001b[35m[05/28/2020 19:10:45 INFO 140120511825728] #throughput_metric: host=algo-2, train throughput=67577.4296788 records/second\u001b[0m\n",
      "\u001b[35m[05/28/2020 19:10:45 INFO 140120511825728] shrinking 100 centers into 10\u001b[0m\n",
      "\u001b[35m[05/28/2020 19:10:45 INFO 140120511825728] local kmeans attempt #0. Current mean square distance 11.518929\u001b[0m\n",
      "\u001b[35m[05/28/2020 19:10:45 INFO 140120511825728] local kmeans attempt #1. Current mean square distance 11.027878\u001b[0m\n",
      "\u001b[35m[05/28/2020 19:10:46 INFO 140120511825728] local kmeans attempt #2. Current mean square distance 11.662660\u001b[0m\n",
      "\u001b[35m[05/28/2020 19:10:46 INFO 140120511825728] local kmeans attempt #3. Current mean square distance 11.169070\u001b[0m\n",
      "\u001b[35m[05/28/2020 19:10:46 INFO 140120511825728] local kmeans attempt #4. Current mean square distance 10.906132\u001b[0m\n",
      "\u001b[35m[05/28/2020 19:10:46 INFO 140120511825728] local kmeans attempt #5. Current mean square distance 10.911145\u001b[0m\n",
      "\u001b[35m[05/28/2020 19:10:46 INFO 140120511825728] local kmeans attempt #6. Current mean square distance 11.085416\u001b[0m\n",
      "\u001b[35m[05/28/2020 19:10:46 INFO 140120511825728] local kmeans attempt #7. Current mean square distance 10.890669\u001b[0m\n",
      "\u001b[35m[05/28/2020 19:10:46 INFO 140120511825728] local kmeans attempt #8. Current mean square distance 11.496388\u001b[0m\n",
      "\u001b[35m[05/28/2020 19:10:46 INFO 140120511825728] local kmeans attempt #9. Current mean square distance 11.498159\u001b[0m\n",
      "\u001b[35m[05/28/2020 19:10:46 INFO 140120511825728] finished shrinking process. Mean Square Distance = 11\u001b[0m\n",
      "\u001b[35m[05/28/2020 19:10:46 INFO 140120511825728] #quality_metric: host=algo-2, train msd <loss>=10.890668869\u001b[0m\n",
      "\u001b[35m[05/28/2020 19:10:46 INFO 140120511825728] compute all data-center distances: point norm took: 33.6435%, (0.126570 secs)\u001b[0m\n",
      "\u001b[35m[05/28/2020 19:10:46 INFO 140120511825728] compute all data-center distances: inner product took: 22.5060%, (0.084670 secs)\u001b[0m\n",
      "\u001b[35m[05/28/2020 19:10:46 INFO 140120511825728] batch data loading with context took: 13.6263%, (0.051263 secs)\u001b[0m\n",
      "\u001b[35m[05/28/2020 19:10:46 INFO 140120511825728] gradient: cluster center took: 9.6494%, (0.036302 secs)\u001b[0m\n",
      "\u001b[35m[05/28/2020 19:10:46 INFO 140120511825728] predict compute msd took: 5.9956%, (0.022556 secs)\u001b[0m\n",
      "\u001b[35m[05/28/2020 19:10:46 INFO 140120511825728] collect from kv store took: 5.3064%, (0.019963 secs)\u001b[0m\n",
      "\u001b[35m[05/28/2020 19:10:46 INFO 140120511825728] gradient: cluster size  took: 3.6823%, (0.013853 secs)\u001b[0m\n",
      "\u001b[35m[05/28/2020 19:10:46 INFO 140120511825728] splitting centers key-value pair took: 2.3755%, (0.008937 secs)\u001b[0m\n",
      "\u001b[35m[05/28/2020 19:10:46 INFO 140120511825728] gradient: one_hot took: 1.7126%, (0.006443 secs)\u001b[0m\n",
      "\u001b[35m[05/28/2020 19:10:46 INFO 140120511825728] compute all data-center distances: center norm took: 0.9391%, (0.003533 secs)\u001b[0m\n",
      "\u001b[35m[05/28/2020 19:10:46 INFO 140120511825728] update state and report convergance took: 0.4449%, (0.001674 secs)\u001b[0m\n",
      "\u001b[35m[05/28/2020 19:10:46 INFO 140120511825728] update set-up time took: 0.0814%, (0.000306 secs)\u001b[0m\n",
      "\u001b[35m[05/28/2020 19:10:46 INFO 140120511825728] predict minus dist took: 0.0370%, (0.000139 secs)\u001b[0m\n",
      "\u001b[35m[05/28/2020 19:10:46 INFO 140120511825728] TOTAL took: 0.376209497452\u001b[0m\n",
      "\u001b[35m[05/28/2020 19:10:46 INFO 140120511825728] Number of GPUs being used: 0\u001b[0m\n",
      "\u001b[35m[05/28/2020 19:10:46 INFO 140120511825728] No model is serialized on a non-master node\u001b[0m\n",
      "\u001b[35m#metrics {\"Metrics\": {\"finalize.time\": {\"count\": 1, \"max\": 439.52393531799316, \"sum\": 439.52393531799316, \"min\": 439.52393531799316}, \"initialize.time\": {\"count\": 1, \"max\": 49.56197738647461, \"sum\": 49.56197738647461, \"min\": 49.56197738647461}, \"model.serialize.time\": {\"count\": 1, \"max\": 0.08106231689453125, \"sum\": 0.08106231689453125, \"min\": 0.08106231689453125}, \"update.time\": {\"count\": 1, \"max\": 369.49610710144043, \"sum\": 369.49610710144043, \"min\": 369.49610710144043}, \"epochs\": {\"count\": 1, \"max\": 1, \"sum\": 1.0, \"min\": 1}, \"state.serialize.time\": {\"count\": 1, \"max\": 0.49591064453125, \"sum\": 0.49591064453125, \"min\": 0.49591064453125}, \"_shrink.time\": {\"count\": 1, \"max\": 436.65289878845215, \"sum\": 436.65289878845215, \"min\": 436.65289878845215}}, \"EndTime\": 1590693046.343717, \"Dimensions\": {\"Host\": \"algo-2\", \"Operation\": \"training\", \"Algorithm\": \"AWS/KMeansWebscale\"}, \"StartTime\": 1590693045.430632}\n",
      "\u001b[0m\n",
      "\u001b[35m[05/28/2020 19:10:46 INFO 140120511825728] Test data is not provided.\u001b[0m\n",
      "\u001b[35m#metrics {\"Metrics\": {\"totaltime\": {\"count\": 1, \"max\": 6564.022064208984, \"sum\": 6564.022064208984, \"min\": 6564.022064208984}, \"setuptime\": {\"count\": 1, \"max\": 2547.137975692749, \"sum\": 2547.137975692749, \"min\": 2547.137975692749}}, \"EndTime\": 1590693046.347014, \"Dimensions\": {\"Host\": \"algo-2\", \"Operation\": \"training\", \"Algorithm\": \"AWS/KMeansWebscale\"}, \"StartTime\": 1590693046.343846}\n",
      "\u001b[0m\n",
      "\u001b[34m[2020-05-28 19:10:45.883] [tensorio] [info] epoch_stats={\"data_pipeline\": \"/opt/ml/input/data/train\", \"epoch\": 1, \"duration\": 350, \"num_examples\": 5, \"num_bytes\": 79100000}\u001b[0m\n",
      "\u001b[34m[05/28/2020 19:10:45 INFO 140691468474176] processed a total of 25000 examples\u001b[0m\n",
      "\u001b[34m[05/28/2020 19:10:45 INFO 140691468474176] #progress_metric: host=algo-1, completed 100 % of epochs\u001b[0m\n",
      "\u001b[34m#metrics {\"Metrics\": {\"Max Batches Seen Between Resets\": {\"count\": 1, \"max\": 5, \"sum\": 5.0, \"min\": 5}, \"Number of Batches Since Last Reset\": {\"count\": 1, \"max\": 5, \"sum\": 5.0, \"min\": 5}, \"Number of Records Since Last Reset\": {\"count\": 1, \"max\": 25000, \"sum\": 25000.0, \"min\": 25000}, \"Total Batches Seen\": {\"count\": 1, \"max\": 6, \"sum\": 6.0, \"min\": 6}, \"Total Records Seen\": {\"count\": 1, \"max\": 30000, \"sum\": 30000.0, \"min\": 30000}, \"Max Records Seen Between Resets\": {\"count\": 1, \"max\": 25000, \"sum\": 25000.0, \"min\": 25000}, \"Reset Count\": {\"count\": 1, \"max\": 1, \"sum\": 1.0, \"min\": 1}}, \"EndTime\": 1590693045.884256, \"Dimensions\": {\"Host\": \"algo-1\", \"Meta\": \"training_data_iter\", \"Operation\": \"training\", \"Algorithm\": \"AWS/KMeansWebscale\", \"epoch\": 0}, \"StartTime\": 1590693045.533104}\n",
      "\u001b[0m\n",
      "\u001b[34m[05/28/2020 19:10:45 INFO 140691468474176] #throughput_metric: host=algo-1, train throughput=71159.9969326 records/second\u001b[0m\n",
      "\u001b[34m[05/28/2020 19:10:45 INFO 140691468474176] shrinking 100 centers into 10\u001b[0m\n",
      "\u001b[34m[05/28/2020 19:10:45 INFO 140691468474176] local kmeans attempt #0. Current mean square distance 11.146151\u001b[0m\n",
      "\u001b[34m[05/28/2020 19:10:46 INFO 140691468474176] local kmeans attempt #1. Current mean square distance 11.017994\u001b[0m\n",
      "\u001b[34m[05/28/2020 19:10:46 INFO 140691468474176] local kmeans attempt #2. Current mean square distance 10.960859\u001b[0m\n",
      "\u001b[34m[05/28/2020 19:10:46 INFO 140691468474176] local kmeans attempt #3. Current mean square distance 11.089207\u001b[0m\n",
      "\u001b[34m[05/28/2020 19:10:46 INFO 140691468474176] local kmeans attempt #4. Current mean square distance 11.006633\u001b[0m\n",
      "\u001b[34m[05/28/2020 19:10:46 INFO 140691468474176] local kmeans attempt #5. Current mean square distance 11.050578\u001b[0m\n",
      "\u001b[34m[05/28/2020 19:10:46 INFO 140691468474176] local kmeans attempt #6. Current mean square distance 11.021652\u001b[0m\n",
      "\u001b[34m[05/28/2020 19:10:46 INFO 140691468474176] local kmeans attempt #7. Current mean square distance 10.903676\u001b[0m\n",
      "\u001b[34m[05/28/2020 19:10:46 INFO 140691468474176] local kmeans attempt #8. Current mean square distance 11.028690\u001b[0m\n",
      "\u001b[34m[05/28/2020 19:10:46 INFO 140691468474176] local kmeans attempt #9. Current mean square distance 10.934131\u001b[0m\n",
      "\u001b[34m[05/28/2020 19:10:46 INFO 140691468474176] finished shrinking process. Mean Square Distance = 11\u001b[0m\n",
      "\u001b[34m[05/28/2020 19:10:46 INFO 140691468474176] #quality_metric: host=algo-1, train msd <loss>=10.903676033\u001b[0m\n",
      "\u001b[34m[05/28/2020 19:10:46 INFO 140691468474176] compute all data-center distances: point norm took: 37.2677%, (0.133070 secs)\u001b[0m\n",
      "\u001b[34m[05/28/2020 19:10:46 INFO 140691468474176] compute all data-center distances: inner product took: 22.8623%, (0.081633 secs)\u001b[0m\n",
      "\u001b[34m[05/28/2020 19:10:46 INFO 140691468474176] batch data loading with context took: 13.0807%, (0.046707 secs)\u001b[0m\n",
      "\u001b[34m[05/28/2020 19:10:46 INFO 140691468474176] gradient: cluster center took: 8.4374%, (0.030127 secs)\u001b[0m\n",
      "\u001b[34m[05/28/2020 19:10:46 INFO 140691468474176] predict compute msd took: 6.7731%, (0.024184 secs)\u001b[0m\n",
      "\u001b[34m[05/28/2020 19:10:46 INFO 140691468474176] gradient: cluster size  took: 3.3846%, (0.012085 secs)\u001b[0m\n",
      "\u001b[34m[05/28/2020 19:10:46 INFO 140691468474176] collect from kv store took: 3.1896%, (0.011389 secs)\u001b[0m\n",
      "\u001b[34m[05/28/2020 19:10:46 INFO 140691468474176] splitting centers key-value pair took: 2.2306%, (0.007965 secs)\u001b[0m\n",
      "\u001b[34m[05/28/2020 19:10:46 INFO 140691468474176] gradient: one_hot took: 1.3012%, (0.004646 secs)\u001b[0m\n",
      "\u001b[34m[05/28/2020 19:10:46 INFO 140691468474176] compute all data-center distances: center norm took: 0.8945%, (0.003194 secs)\u001b[0m\n",
      "\u001b[34m[05/28/2020 19:10:46 INFO 140691468474176] update state and report convergance took: 0.4762%, (0.001700 secs)\u001b[0m\n",
      "\u001b[34m[05/28/2020 19:10:46 INFO 140691468474176] update set-up time took: 0.0717%, (0.000256 secs)\u001b[0m\n",
      "\u001b[34m[05/28/2020 19:10:46 INFO 140691468474176] predict minus dist took: 0.0305%, (0.000109 secs)\u001b[0m\n",
      "\u001b[34m[05/28/2020 19:10:46 INFO 140691468474176] TOTAL took: 0.35706448555\u001b[0m\n",
      "\u001b[34m[05/28/2020 19:10:46 INFO 140691468474176] Number of GPUs being used: 0\u001b[0m\n",
      "\u001b[34m#metrics {\"Metrics\": {\"finalize.time\": {\"count\": 1, \"max\": 377.32601165771484, \"sum\": 377.32601165771484, \"min\": 377.32601165771484}, \"initialize.time\": {\"count\": 1, \"max\": 58.34603309631348, \"sum\": 58.34603309631348, \"min\": 58.34603309631348}, \"model.serialize.time\": {\"count\": 1, \"max\": 0.16617774963378906, \"sum\": 0.16617774963378906, \"min\": 0.16617774963378906}, \"update.time\": {\"count\": 1, \"max\": 350.9249687194824, \"sum\": 350.9249687194824, \"min\": 350.9249687194824}, \"epochs\": {\"count\": 1, \"max\": 1, \"sum\": 1.0, \"min\": 1}, \"state.serialize.time\": {\"count\": 1, \"max\": 0.5090236663818359, \"sum\": 0.5090236663818359, \"min\": 0.5090236663818359}, \"_shrink.time\": {\"count\": 1, \"max\": 374.6209144592285, \"sum\": 374.6209144592285, \"min\": 374.6209144592285}}, \"EndTime\": 1590693046.281005, \"Dimensions\": {\"Host\": \"algo-1\", \"Operation\": \"training\", \"Algorithm\": \"AWS/KMeansWebscale\"}, \"StartTime\": 1590693045.429181}\n",
      "\u001b[0m\n",
      "\u001b[34m[05/28/2020 19:10:46 INFO 140691468474176] Test data is not provided.\u001b[0m\n",
      "\u001b[34m#metrics {\"Metrics\": {\"totaltime\": {\"count\": 1, \"max\": 1679.879903793335, \"sum\": 1679.879903793335, \"min\": 1679.879903793335}, \"setuptime\": {\"count\": 1, \"max\": 25.188922882080078, \"sum\": 25.188922882080078, \"min\": 25.188922882080078}}, \"EndTime\": 1590693046.284029, \"Dimensions\": {\"Host\": \"algo-1\", \"Operation\": \"training\", \"Algorithm\": \"AWS/KMeansWebscale\"}, \"StartTime\": 1590693046.281104}\n",
      "\u001b[0m\n"
     ]
    },
    {
     "name": "stdout",
     "output_type": "stream",
     "text": [
      "\n",
      "2020-05-28 19:10:55 Uploading - Uploading generated training model\n",
      "2020-05-28 19:10:55 Completed - Training job completed\n",
      "Training seconds: 98\n",
      "Billable seconds: 98\n",
      "CPU times: user 9.19 s, sys: 497 ms, total: 9.69 s\n",
      "Wall time: 3min 53s\n"
     ]
    }
   ],
   "source": [
    "%%time\n",
    "\n",
    "kmeans.fit(kmeans.record_set(train_set[0]))"
   ]
  },
  {
   "cell_type": "markdown",
   "metadata": {},
   "source": [
    "## Set up hosting for the model\n",
    "Now, we can deploy the model we just trained behind a real-time hosted endpoint.  This next step can take, on average, 7 to 11 minutes to complete."
   ]
  },
  {
   "cell_type": "code",
   "execution_count": 7,
   "metadata": {},
   "outputs": [
    {
     "name": "stdout",
     "output_type": "stream",
     "text": [
      "---------------!CPU times: user 252 ms, sys: 15.6 ms, total: 267 ms\n",
      "Wall time: 7min 31s\n"
     ]
    }
   ],
   "source": [
    "%%time\n",
    "\n",
    "kmeans_predictor = kmeans.deploy(initial_instance_count=1,\n",
    "                                 instance_type='ml.m4.xlarge')"
   ]
  },
  {
   "cell_type": "markdown",
   "metadata": {},
   "source": [
    "## Validate the model for use\n",
    "Finally, we'll validate the model for use. Let's generate a classification for a single observation from the trained model using the endpoint we just created."
   ]
  },
  {
   "cell_type": "code",
   "execution_count": 8,
   "metadata": {},
   "outputs": [
    {
     "name": "stdout",
     "output_type": "stream",
     "text": [
      "[label {\n",
      "  key: \"closest_cluster\"\n",
      "  value {\n",
      "    float32_tensor {\n",
      "      values: 1.0\n",
      "    }\n",
      "  }\n",
      "}\n",
      "label {\n",
      "  key: \"distance_to_cluster\"\n",
      "  value {\n",
      "    float32_tensor {\n",
      "      values: 7.467263221740723\n",
      "    }\n",
      "  }\n",
      "}\n",
      "]\n"
     ]
    }
   ],
   "source": [
    "result = kmeans_predictor.predict(train_set[0][30:31])\n",
    "print(result)"
   ]
  },
  {
   "cell_type": "markdown",
   "metadata": {},
   "source": [
    "OK, a single prediction works.\n",
    "\n",
    "Let's do a whole batch and see how well the clustering works."
   ]
  },
  {
   "cell_type": "code",
   "execution_count": 9,
   "metadata": {},
   "outputs": [
    {
     "name": "stdout",
     "output_type": "stream",
     "text": [
      "CPU times: user 23.8 ms, sys: 4.08 ms, total: 27.9 ms\n",
      "Wall time: 79.2 ms\n"
     ]
    }
   ],
   "source": [
    "%%time \n",
    "\n",
    "result = kmeans_predictor.predict(valid_set[0][0:100])\n",
    "clusters = [r.label['closest_cluster'].float32_tensor.values[0] for r in result]"
   ]
  },
  {
   "cell_type": "code",
   "execution_count": 10,
   "metadata": {},
   "outputs": [
    {
     "name": "stdout",
     "output_type": "stream",
     "text": [
      "\n",
      "\n",
      "\n",
      "Cluster 0:\n"
     ]
    },
    {
     "data": {
      "image/png": "[encoded data removed]",
      "text/plain": [
       "<Figure size 360x144 with 10 Axes>"
      ]
     },
     "metadata": {},
     "output_type": "display_data"
    },
    {
     "name": "stdout",
     "output_type": "stream",
     "text": [
      "\n",
      "\n",
      "\n",
      "Cluster 1:\n"
     ]
    },
    {
     "data": {
      "image/png": "[encoded data removed]",
      "text/plain": [
       "<Figure size 360x360 with 25 Axes>"
      ]
     },
     "metadata": {},
     "output_type": "display_data"
    },
    {
     "name": "stdout",
     "output_type": "stream",
     "text": [
      "\n",
      "\n",
      "\n",
      "Cluster 2:\n"
     ]
    },
    {
     "data": {
      "image/png": "[encoded data removed]",
      "text/plain": [
       "<Figure size 360x72 with 5 Axes>"
      ]
     },
     "metadata": {},
     "output_type": "display_data"
    },
    {
     "name": "stdout",
     "output_type": "stream",
     "text": [
      "\n",
      "\n",
      "\n",
      "Cluster 3:\n"
     ]
    },
    {
     "data": {
      "image/png": "[encoded data removed]",
      "text/plain": [
       "<Figure size 360x72 with 5 Axes>"
      ]
     },
     "metadata": {},
     "output_type": "display_data"
    },
    {
     "name": "stdout",
     "output_type": "stream",
     "text": [
      "\n",
      "\n",
      "\n",
      "Cluster 4:\n"
     ]
    },
    {
     "data": {
      "image/png": "[encoded data removed]",
      "text/plain": [
       "<Figure size 360x288 with 20 Axes>"
      ]
     },
     "metadata": {},
     "output_type": "display_data"
    },
    {
     "name": "stdout",
     "output_type": "stream",
     "text": [
      "\n",
      "\n",
      "\n",
      "Cluster 5:\n"
     ]
    },
    {
     "data": {
      "image/png": "[encoded data removed]",
      "text/plain": [
       "<Figure size 360x72 with 5 Axes>"
      ]
     },
     "metadata": {},
     "output_type": "display_data"
    },
    {
     "name": "stdout",
     "output_type": "stream",
     "text": [
      "\n",
      "\n",
      "\n",
      "Cluster 6:\n"
     ]
    },
    {
     "data": {
      "image/png": "[encoded data removed]",
      "text/plain": [
       "<Figure size 360x144 with 10 Axes>"
      ]
     },
     "metadata": {},
     "output_type": "display_data"
    },
    {
     "name": "stdout",
     "output_type": "stream",
     "text": [
      "\n",
      "\n",
      "\n",
      "Cluster 7:\n"
     ]
    },
    {
     "data": {
      "image/png": "[encoded data removed]",
      "text/plain": [
       "<Figure size 360x144 with 10 Axes>"
      ]
     },
     "metadata": {},
     "output_type": "display_data"
    },
    {
     "name": "stdout",
     "output_type": "stream",
     "text": [
      "\n",
      "\n",
      "\n",
      "Cluster 8:\n"
     ]
    },
    {
     "data": {
      "image/png": "[encoded data removed]",
      "text/plain": [
       "<Figure size 360x144 with 10 Axes>"
      ]
     },
     "metadata": {},
     "output_type": "display_data"
    },
    {
     "name": "stdout",
     "output_type": "stream",
     "text": [
      "\n",
      "\n",
      "\n",
      "Cluster 9:\n"
     ]
    },
    {
     "data": {
      "image/png": "[encoded data removed]",
      "text/plain": [
       "<Figure size 360x216 with 15 Axes>"
      ]
     },
     "metadata": {},
     "output_type": "display_data"
    }
   ],
   "source": [
    "for cluster in range(10):\n",
    "    print('\\n\\n\\nCluster {}:'.format(int(cluster)))\n",
    "    digits = [ img for l, img in zip(clusters, valid_set[0]) if int(l) == cluster ]\n",
    "    height=((len(digits)-1)//5)+1\n",
    "    width=5\n",
    "    plt.rcParams[\"figure.figsize\"] = (width,height)\n",
    "    _, subplots = plt.subplots(height, width)\n",
    "    subplots=numpy.ndarray.flatten(subplots)\n",
    "    for subplot, image in zip(subplots, digits):\n",
    "        show_digit(image, subplot=subplot)\n",
    "    for subplot in subplots[len(digits):]:\n",
    "        subplot.axis('off')\n",
    "\n",
    "    plt.show()"
   ]
  },
  {
   "cell_type": "markdown",
   "metadata": {},
   "source": [
    "### The bottom line\n",
    "\n",
    "K-Means clustering is not the best algorithm for image analysis problems, but we do see pretty reasonable clusters being built."
   ]
  },
  {
   "cell_type": "markdown",
   "metadata": {},
   "source": [
    "### (Optional) Delete the Endpoint\n",
    "If you're ready to be done with this notebook, make sure run the cell below.  This will remove the hosted endpoint you created and avoid any charges from a stray instance being left on."
   ]
  },
  {
   "cell_type": "code",
   "execution_count": 11,
   "metadata": {},
   "outputs": [
    {
     "name": "stdout",
     "output_type": "stream",
     "text": [
      "kmeans-2020-05-28-19-07-35-058\n"
     ]
    }
   ],
   "source": [
    "print(kmeans_predictor.endpoint)"
   ]
  },
  {
   "cell_type": "code",
   "execution_count": 12,
   "metadata": {},
   "outputs": [],
   "source": [
    "import sagemaker\n",
    "sagemaker.Session().delete_endpoint(kmeans_predictor.endpoint)"
   ]
  }
 ],
 "metadata": {
  "kernelspec": {
   "display_name": "conda_python3",
   "language": "python",
   "name": "conda_python3"
  },
  "language_info": {
   "codemirror_mode": {
    "name": "ipython",
    "version": 3
   },
   "file_extension": ".py",
   "mimetype": "text/x-python",
   "name": "python",
   "nbconvert_exporter": "python",
   "pygments_lexer": "ipython3",
   "version": "3.6.5"
  },
  "notice": "Copyright 2017 Amazon.com, Inc. or its affiliates. All Rights Reserved.  Licensed under the Apache License, Version 2.0 (the \"License\"). You may not use this file except in compliance with the License. A copy of the License is located at http://aws.amazon.com/apache2.0/ or in the \"license\" file accompanying this file. This file is distributed on an \"AS IS\" BASIS, WITHOUT WARRANTIES OR CONDITIONS OF ANY KIND, either express or implied. See the License for the specific language governing permissions and limitations under the License."
 },
 "nbformat": 4,
 "nbformat_minor": 2
}
